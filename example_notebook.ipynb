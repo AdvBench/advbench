{
 "cells": [
  {
   "cell_type": "code",
   "execution_count": 1,
   "id": "criminal-harvey",
   "metadata": {},
   "outputs": [],
   "source": [
    "%load_ext autoreload\n",
    "%autoreload 2"
   ]
  },
  {
   "cell_type": "code",
   "execution_count": 2,
   "id": "unexpected-board",
   "metadata": {},
   "outputs": [],
   "source": [
    "from robustbench import benchmark, load_model"
   ]
  },
  {
   "cell_type": "code",
   "execution_count": 8,
   "id": "greater-requirement",
   "metadata": {},
   "outputs": [
    {
     "name": "stdout",
     "output_type": "stream",
     "text": [
      "Download started: path=models/cifar10/Linf/Standard.pt (gdrive_id=1t98aEuzeTL8P7Kpd5DIrCoCL21BNZUhC)\n",
      "Download finished: path=models/cifar10/Linf/Standard.pt (gdrive_id=1t98aEuzeTL8P7Kpd5DIrCoCL21BNZUhC)\n"
     ]
    }
   ],
   "source": [
    "dataset = \"cifar10\"\n",
    "threat_model = \"Linf\"\n",
    "\n",
    "model = load_model(\"Standard\", dataset=dataset, threat_model=threat_model)"
   ]
  },
  {
   "cell_type": "code",
   "execution_count": 9,
   "id": "composite-coalition",
   "metadata": {},
   "outputs": [
    {
     "name": "stdout",
     "output_type": "stream",
     "text": [
      "Files already downloaded and verified\n",
      "Clean accuracy: 100.00%\n",
      "setting parameters for standard version\n",
      "using standard version including apgd-ce, apgd-t, fab-t, square\n",
      "initial accuracy: 100.00%\n"
     ]
    },
    {
     "name": "stderr",
     "output_type": "stream",
     "text": [
      "/home/edoardo/.pyenv/versions/3.8.6/envs/robust_bench/src/autoattack/autoattack/autopgd_pt.py:204: UserWarning: This overload of nonzero is deprecated:\n",
      "\tnonzero()\n",
      "Consider using one of the following signatures instead:\n",
      "\tnonzero(*, bool as_tuple) (Triggered internally at  /pytorch/torch/csrc/utils/python_arg_parser.cpp:882.)\n",
      "  ind_to_fool = acc.nonzero().squeeze()\n",
      "/home/edoardo/.pyenv/versions/3.8.6/envs/robust_bench/lib/python3.8/site-packages/torch/nn/_reduction.py:44: UserWarning: size_average and reduce args will be deprecated, please use reduction='none' instead.\n",
      "  warnings.warn(warning.format(ret))\n"
     ]
    },
    {
     "name": "stdout",
     "output_type": "stream",
     "text": [
      "apgd-ce - 1/1 - 1 out of 1 successfully perturbed\n",
      "robust accuracy after APGD-CE: 0.00% (total time 32.5 s)\n",
      "max Linf perturbation: 0.03137, nan in tensor: 0, max: 1.00000, min: 0.03529\n",
      "robust accuracy: 0.00%\n",
      "Adversarial accuracy: 0.00%\n"
     ]
    },
    {
     "data": {
      "text/plain": [
       "(1.0, 0.0)"
      ]
     },
     "execution_count": 9,
     "metadata": {},
     "output_type": "execute_result"
    }
   ],
   "source": [
    "benchmark(model, 1, dataset, threat_model, to_disk=True, model_name=\"Standard_\", eps=8/255)"
   ]
  },
  {
   "cell_type": "code",
   "execution_count": 10,
   "id": "precise-inventory",
   "metadata": {},
   "outputs": [
    {
     "name": "stdout",
     "output_type": "stream",
     "text": [
      "Download started: path=models/cifar10/L2/Standard.pt (gdrive_id=1t98aEuzeTL8P7Kpd5DIrCoCL21BNZUhC)\n",
      "Download finished: path=models/cifar10/L2/Standard.pt (gdrive_id=1t98aEuzeTL8P7Kpd5DIrCoCL21BNZUhC)\n"
     ]
    }
   ],
   "source": [
    "dataset = \"cifar10\"\n",
    "threat_model = \"L2\"\n",
    "\n",
    "model = load_model(\"Standard\", dataset=dataset, threat_model=threat_model)"
   ]
  },
  {
   "cell_type": "code",
   "execution_count": 11,
   "id": "elementary-palace",
   "metadata": {},
   "outputs": [
    {
     "name": "stdout",
     "output_type": "stream",
     "text": [
      "Files already downloaded and verified\n",
      "Clean accuracy: 100.00%\n",
      "setting parameters for standard version\n",
      "using standard version including apgd-ce, apgd-t, fab-t, square\n",
      "initial accuracy: 100.00%\n",
      "apgd-ce - 1/1 - 1 out of 1 successfully perturbed\n",
      "robust accuracy after APGD-CE: 0.00% (total time 35.9 s)\n",
      "max L2 perturbation: 0.50000, nan in tensor: 0, max: 0.99937, min: 0.05374\n",
      "robust accuracy: 0.00%\n",
      "Adversarial accuracy: 0.00%\n"
     ]
    },
    {
     "data": {
      "text/plain": [
       "(1.0, 0.0)"
      ]
     },
     "execution_count": 11,
     "metadata": {},
     "output_type": "execute_result"
    }
   ],
   "source": [
    "benchmark(model, 1, dataset, threat_model, to_disk=True, model_name=\"Standard_\", eps=0.5)"
   ]
  },
  {
   "cell_type": "code",
   "execution_count": 12,
   "id": "cloudy-eagle",
   "metadata": {},
   "outputs": [],
   "source": [
    "dataset = \"cifar10\"\n",
    "threat_model = \"corruptions\"\n",
    "\n",
    "model = load_model(\"Hendrycks2020AugMixWRN\", dataset=dataset, threat_model=threat_model)"
   ]
  },
  {
   "cell_type": "code",
   "execution_count": 13,
   "id": "thousand-jacket",
   "metadata": {},
   "outputs": [
    {
     "name": "stdout",
     "output_type": "stream",
     "text": [
      "Files already downloaded and verified\n"
     ]
    },
    {
     "name": "stderr",
     "output_type": "stream",
     "text": [
      "  0%|          | 0/15 [00:00<?, ?it/s]"
     ]
    },
    {
     "name": "stdout",
     "output_type": "stream",
     "text": [
      "Clean accuracy: 100.00%\n",
      "Evaluating over 15 corruptions\n"
     ]
    },
    {
     "name": "stderr",
     "output_type": "stream",
     "text": [
      "100%|██████████| 15/15 [00:05<00:00,  2.66it/s]"
     ]
    },
    {
     "name": "stdout",
     "output_type": "stream",
     "text": [
      "Adversarial accuracy: 93.33%\n"
     ]
    },
    {
     "name": "stderr",
     "output_type": "stream",
     "text": [
      "\n"
     ]
    },
    {
     "data": {
      "text/plain": [
       "(1.0, 0.9333333333333333)"
      ]
     },
     "execution_count": 13,
     "metadata": {},
     "output_type": "execute_result"
    }
   ],
   "source": [
    "benchmark(model, 1, dataset, threat_model, to_disk=True, model_name=\"Hendrycks2020AugMixWRN_\")"
   ]
  },
  {
   "cell_type": "code",
   "execution_count": null,
   "id": "coated-armor",
   "metadata": {},
   "outputs": [],
   "source": []
  }
 ],
 "metadata": {
  "kernelspec": {
   "display_name": "Python 3",
   "language": "python",
   "name": "python3"
  },
  "language_info": {
   "codemirror_mode": {
    "name": "ipython",
    "version": 3
   },
   "file_extension": ".py",
   "mimetype": "text/x-python",
   "name": "python",
   "nbconvert_exporter": "python",
   "pygments_lexer": "ipython3",
   "version": "3.8.6"
  }
 },
 "nbformat": 4,
 "nbformat_minor": 5
}
